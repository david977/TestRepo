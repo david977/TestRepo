{
  "nbformat": 4,
  "nbformat_minor": 0,
  "metadata": {
    "colab": {
      "name": "ICEYE_Assignment.ipynb",
      "provenance": [],
      "collapsed_sections": []
    },
    "kernelspec": {
      "name": "python3",
      "display_name": "Python 3"
    },
    "language_info": {
      "name": "python"
    }
  },
  "cells": [
    {
      "cell_type": "markdown",
      "metadata": {
        "id": "MK5rpG8R-u9k"
      },
      "source": [
        "#Install Required Packages"
      ]
    },
    {
      "cell_type": "code",
      "metadata": {
        "id": "XmtlbQUAIXEY"
      },
      "source": [
        "!pip install selenium"
      ],
      "execution_count": null,
      "outputs": []
    },
    {
      "cell_type": "code",
      "metadata": {
        "id": "o91S0rPy_L7y"
      },
      "source": [
        "from selenium import webdriver"
      ],
      "execution_count": 2,
      "outputs": []
    },
    {
      "cell_type": "code",
      "metadata": {
        "id": "ECcfqmMAIwqr"
      },
      "source": [
        "url = 'https://fhy.wra.gov.tw/fhy/Monitor/Water'"
      ],
      "execution_count": 3,
      "outputs": []
    },
    {
      "cell_type": "code",
      "metadata": {
        "id": "L6MWhnbTO0ay"
      },
      "source": [
        "!apt-get update # to update ubuntu to correctly run apt install\n",
        "!apt install chromium-chromedriver\n",
        "!cp /usr/lib/chromium-browser/chromedriver /usr/bin\n",
        "import sys\n",
        "sys.path.insert(0,'/usr/lib/chromium-browser/chromedriver')\n",
        "from selenium import webdriver\n",
        "chrome_options = webdriver.ChromeOptions()\n",
        "chrome_options.add_argument('--headless')\n",
        "chrome_options.add_argument('--no-sandbox')\n",
        "chrome_options.add_argument('--disable-dev-shm-usage')\n",
        "wd = webdriver.Chrome('chromedriver',chrome_options=chrome_options)\n",
        "wd.get(url)"
      ],
      "execution_count": null,
      "outputs": []
    },
    {
      "cell_type": "markdown",
      "metadata": {
        "id": "DgRgOGjM-4YW"
      },
      "source": [
        "#Use selenium to find 'Xpath' of each table cells and store it in a list"
      ]
    },
    {
      "cell_type": "code",
      "metadata": {
        "id": "kkyx5Wfat98T"
      },
      "source": [
        "watershed = wd.find_elements_by_xpath(\".//table[@class='table panel-table']/tbody/tr/td[2]\")\n",
        "\n",
        "wl_station = wd.find_elements_by_xpath(\".//table[@class='table panel-table']/tbody/tr/td[3]\")\n",
        "\n",
        "hl_time = wd.find_elements_by_xpath(\".//table[@class='table panel-table']/tbody/tr/td[4]\")\n",
        "\n",
        "curr_water_level = wd.find_elements_by_xpath(\".//table[@class='table panel-table']/tbody/tr/td[5]\")\n",
        "\n",
        "level_one = wd.find_elements_by_xpath(\".//table[@class='table panel-table']/tbody/tr/td[6]\")\n",
        "\n",
        "level_two = wd.find_elements_by_xpath(\".//table[@class='table panel-table']/tbody/tr/td[7]\")\n",
        "\n",
        "level_three = wd.find_elements_by_xpath(\".//table[@class='table panel-table']/tbody/tr/td[8]\")\n",
        "\n",
        "be_vigilant = wd.find_elements_by_xpath(\".//table[@class='table panel-table']/tbody/tr/td[9]\")\n",
        " "
      ],
      "execution_count": null,
      "outputs": []
    },
    {
      "cell_type": "markdown",
      "metadata": {
        "id": "2uWJcNhS_FQ8"
      },
      "source": [
        "#Appending all the table cells, resulting as a JSON file"
      ]
    },
    {
      "cell_type": "code",
      "metadata": {
        "id": "l5JVfWLawKLa"
      },
      "source": [
        "wl_result = [] # A list to append all the extracted table cells\n",
        "\n",
        "for i in range(len(wl_station)):\n",
        "  # Creating a Json format\n",
        "  temp_data = {'Watershed':watershed[i].text,\n",
        "               'Water level station':wl_station[i].text,\n",
        "               'Hydrologic time':hl_time[i].text,\n",
        "               'Current water level':curr_water_level[i].text,\n",
        "               'Warning value':{'Level 1':level_one[i].text,\n",
        "                                'Level 2':level_two[i].text,\n",
        "                                'Level 3':level_three[i].text},\n",
        "               'Be vigilant':be_vigilant[i].text\n",
        "      \n",
        "  }\n",
        "  wl_result.append(temp_data) # Final array of JSON Objects"
      ],
      "execution_count": 6,
      "outputs": []
    },
    {
      "cell_type": "markdown",
      "metadata": {
        "id": "2QHWaT2lAhJX"
      },
      "source": [
        "#Saving to a JSON file"
      ]
    },
    {
      "cell_type": "code",
      "metadata": {
        "id": "MXHdz59533o_"
      },
      "source": [
        "import pandas as pd\n",
        "df = pd.DataFrame(wl_result)\n"
      ],
      "execution_count": 7,
      "outputs": []
    },
    {
      "cell_type": "code",
      "metadata": {
        "id": "oLqF_pzU40lU"
      },
      "source": [
        "df.to_csv('Watershed_Scraped_Result.csv', encoding='Big5', index=False)"
      ],
      "execution_count": 8,
      "outputs": []
    },
    {
      "cell_type": "code",
      "metadata": {
        "id": "EcTXfis85dkc"
      },
      "source": [
        "df1 = pd.read_csv (r'Watershed_Scraped_Result.csv', encoding='Big5')\n",
        "df1.to_json (r'Watershed_Scraped_Result.json', force_ascii=False)\n"
      ],
      "execution_count": null,
      "outputs": []
    },
    {
      "cell_type": "code",
      "metadata": {
        "id": "VdCXLvgU854s"
      },
      "source": [
        ""
      ],
      "execution_count": null,
      "outputs": []
    }
  ]
}